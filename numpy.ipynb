{
 "cells": [
  {
   "cell_type": "markdown",
   "metadata": {},
   "source": [
    "# O que é a biblioteca Numpy?\n",
    "\n",
    "Numpy é uma biblioteca que melhor trabalha com arrays (listas), sejam eles de uma, duas ou mais dimensões. Ela também permite trabalhar muito bem com a algebra linear. \n",
    "\n",
    "Por que numpy e não as próprias listas em python? então, com o numpy, a criação, manipulação e tratamentos de listas ficam muito mais facies e rápidas! logo, é excelente para esse tipo de tratamento, principalmente para listas muitos extensas. \n",
    "\n",
    "OBS: o numpy por baixo dos panos é escrita principalmente em python, mas também usa-se muito C e C++"
   ]
  },
  {
   "cell_type": "code",
   "execution_count": null,
   "metadata": {},
   "outputs": [],
   "source": [
    "import numpy as np   #importação da biblioteca usando o \"apelido\" np\n",
    "\n",
    "primiro_array = np.array([1,2,3,4,5])\n",
    "primiro_array   #para mostrar algo na tela, o jupyter permite apenas botar o nome da variavel, não precisa do print, porém \n",
    "                #tem diferença no output.\n",
    "print(primiro_array)\n"
   ]
  },
  {
   "cell_type": "code",
   "execution_count": 13,
   "metadata": {},
   "outputs": [
    {
     "name": "stdout",
     "output_type": "stream",
     "text": [
      "[1 2 3 4]\n"
     ]
    }
   ],
   "source": [
    "#Use o método array() para criar qualquer coisa em um array: tuplas,listas etc\n",
    "\n",
    "tuple_to_array = np.array((1,2,3,4))\n",
    "tuple_to_array"
   ]
  },
  {
   "cell_type": "code",
   "execution_count": null,
   "metadata": {},
   "outputs": [],
   "source": [
    "#para saber a dimensao de um array, use \"ndim\"\n",
    "\n",
    "arr = np.array([[1,2,3],\n",
    "                [4,5,6]])\n",
    "arr.ndim"
   ]
  },
  {
   "cell_type": "code",
   "execution_count": null,
   "metadata": {},
   "outputs": [],
   "source": [
    "#acessando elementos é igual as listas em python, usa-se os index \n",
    "\n",
    "arr = np.array([1,2,4,5,6])\n",
    "print(arr[0])\n",
    "\n",
    "#duas ou mais dimensoes \n",
    "\n",
    "arry = np.array([[1,2,4,5],\n",
    "                 [6,7,8,9]])\n",
    "\n",
    "print(f\"o terceiro elemento da segunda linha: {arry[1,2]}\")"
   ]
  },
  {
   "cell_type": "code",
   "execution_count": null,
   "metadata": {},
   "outputs": [],
   "source": [
    "np.random.rand(5,5)"
   ]
  }
 ],
 "metadata": {
  "kernelspec": {
   "display_name": "Python 3",
   "language": "python",
   "name": "python3"
  },
  "language_info": {
   "codemirror_mode": {
    "name": "ipython",
    "version": 3
   },
   "file_extension": ".py",
   "mimetype": "text/x-python",
   "name": "python",
   "nbconvert_exporter": "python",
   "pygments_lexer": "ipython3",
   "version": "3.12.1"
  }
 },
 "nbformat": 4,
 "nbformat_minor": 2
}
