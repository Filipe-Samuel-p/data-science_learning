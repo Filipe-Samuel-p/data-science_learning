{
 "cells": [
  {
   "cell_type": "markdown",
   "metadata": {},
   "source": [
    "# O que é a biblioteca Pandas \n",
    "\n",
    "Pandas é uma biblioteca do python que melhor trabalha com dados. Essa biblioteca permite trabalhar com dados de diversas fontes: arquivos CSV, HTML, SQL etc. Na area de dados com python, é indispensavel. \n",
    "\n",
    "O pandas funciona com \"séries\" e com \"DataFrame\". De acordo com a documentação oficial (https://pandas.pydata.org/docs/user_guide/10min.html), séries seria uma matriz unidimensional que pode conter dados de quaisquer tipos. Ja o \"DataFrame\" seria uma estrutura de dados bem parecida com uma matriz bidimensional, que contém linhas e colunas. \n",
    "\n",
    "\n",
    "Para instalar o pandas pelo terminal: \n",
    "\n",
    "1 - conda install pandas \n",
    "2 - pip install pandas "
   ]
  },
  {
   "cell_type": "code",
   "execution_count": 1,
   "metadata": {},
   "outputs": [],
   "source": [
    "import pandas as pd"
   ]
  },
  {
   "cell_type": "markdown",
   "metadata": {},
   "source": [
    "## Séries \n",
    "\"pd.Series(data, index)\"  essa classe cria uma série e precisa de 2 parametros: os dados e os indices. os indices são os rótulos que ficam a esquerda, eles indicam a posicao, uma letra etc."
   ]
  },
  {
   "cell_type": "code",
   "execution_count": null,
   "metadata": {},
   "outputs": [],
   "source": [
    "labels = ['a', 'b', 'c']\n",
    "my_data = [10,20,30]\n",
    "dict = {'a': 10, 'b': 20, 'c': 30}\n",
    "\n",
    "pd.Series(data = my_data) #sem os indices\n",
    "pd.Series(data = my_data, index=labels) #com os indices\n"
   ]
  },
  {
   "cell_type": "code",
   "execution_count": null,
   "metadata": {},
   "outputs": [],
   "source": [
    "pd.Series(dict) #passando o dicionário, ja se tem uma série com os dados e os indices"
   ]
  },
  {
   "cell_type": "code",
   "execution_count": null,
   "metadata": {},
   "outputs": [],
   "source": [
    "serie1 = pd.Series([1,2,3,4], ['Brasil', 'EUA', 'France', 'Japan'])\n",
    "serie1"
   ]
  },
  {
   "cell_type": "code",
   "execution_count": 14,
   "metadata": {},
   "outputs": [],
   "source": [
    "serie2 = pd.Series([1,2,5,4], ['Brasil', 'USA', 'Italy', 'Japan'])"
   ]
  },
  {
   "cell_type": "code",
   "execution_count": null,
   "metadata": {},
   "outputs": [],
   "source": [
    "# Como acessar os elementos associados aos indices \n",
    "serie1['Brasil']\n",
    "serie3 =pd.Series(data=labels)\n",
    "serie3[0]  #criando uma nova série assim, da pra associar o indice com o dado associado\n"
   ]
  },
  {
   "cell_type": "markdown",
   "metadata": {},
   "source": [
    "## DataFrames "
   ]
  },
  {
   "cell_type": "code",
   "execution_count": null,
   "metadata": {},
   "outputs": [],
   "source": []
  }
 ],
 "metadata": {
  "kernelspec": {
   "display_name": "Python 3",
   "language": "python",
   "name": "python3"
  },
  "language_info": {
   "codemirror_mode": {
    "name": "ipython",
    "version": 3
   },
   "file_extension": ".py",
   "mimetype": "text/x-python",
   "name": "python",
   "nbconvert_exporter": "python",
   "pygments_lexer": "ipython3",
   "version": "3.12.1"
  }
 },
 "nbformat": 4,
 "nbformat_minor": 2
}
